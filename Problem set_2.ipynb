{
 "cells": [
  {
   "cell_type": "markdown",
   "id": "84357ad1",
   "metadata": {},
   "source": [
    "# Question 1\n",
    "Consider the following Python module:\n",
    "a = 0 \n",
    "def b():\n",
    "global a\n",
    "a = c(a)\n",
    "def c(a):\n",
    "return a + 2\n",
    "After importing the module into the interpreter, you execute:\n",
    ">>> b()\n",
    ">>> b()\n",
    ">>> b()\n",
    ">>> a\n",
    "?\n",
    "What value is displayed when the last expression (a) is evaluated? Explain your answer by indicating what happens in every executed statement."
   ]
  },
  {
   "cell_type": "code",
   "execution_count": 6,
   "id": "0c5e6729",
   "metadata": {},
   "outputs": [
    {
     "data": {
      "text/plain": [
       "6"
      ]
     },
     "execution_count": 6,
     "metadata": {},
     "output_type": "execute_result"
    }
   ],
   "source": [
    "a = 0\n",
    "def b():\n",
    "    global a\n",
    "    a = a + 2\n",
    "\n",
    "b()\n",
    "b()\n",
    "b()\n",
    "a\n",
    "\n"
   ]
  },
  {
   "cell_type": "markdown",
   "id": "0c73a2b5",
   "metadata": {},
   "source": [
    "The last expression when 'a' call it result out 6.\n",
    "\n",
    "Explaining the steps:\n",
    "    \n",
    "1. Initially, the global variable a is assigned a value of 0.\n",
    "\n",
    "2. The function b() is called for the first time. Inside b(), the global keyword is used to indicate that the variable a being referenced is the global variable a defined outside the function. The function c(a) is then called with the value of a (which is 0) as an argument.\n",
    "\n",
    "3. The function c(a) takes the argument a and returns its value plus 2. In this case, c(a) returns 2.\n",
    "\n",
    "4. The value returned by c(a) (which is 2) is assigned back to the global variable a. So now, the value of a becomes 2.\n",
    "\n",
    "5. The second call to b() is made. Following the same steps as before, the value of a is updated to 4 (2 + 2).\n",
    "\n",
    "6. The third call to b() is made. Again, the value of a is updated to 6 (4 + 2).\n"
   ]
  },
  {
   "cell_type": "markdown",
   "id": "0eeabf0c",
   "metadata": {},
   "source": [
    "# Question 2\n",
    "Function fileLength(), given to you, takes the name of a file as input and returns \n",
    "the length of the file:\n",
    ">>> fileLength('midterm.py') \n",
    "284\n",
    ">>> fileLength('idterm.py') \n",
    "Traceback (most recent call last):\n",
    "File \"<pyshell#34>\", line 1, in <module> \n",
    "fileLength('idterm.py')\n",
    "File \"/Users/me/midterm.py\", line 3, in fileLength \n",
    "infile = open(filename)\n",
    "FileNotFoundError: [Errno 2] No such file or directory: \n",
    "'idterm.py'\n",
    "As shown above, if the file cannot be found by the interpreter or if it cannot be read \n",
    "as a text file, an exception will be raised. Modify function fileLength() so that a \n",
    "friendly message is printed instead:\n",
    ">>> fileLength('midterm.py') \n",
    "358\n",
    ">>> fileLength('idterm.py') \n",
    "File idterm.py not found."
   ]
  },
  {
   "cell_type": "code",
   "execution_count": 1,
   "id": "19957c4a",
   "metadata": {},
   "outputs": [
    {
     "name": "stdout",
     "output_type": "stream",
     "text": [
      "File midterm.py not found.\n",
      "File idterm.py not found.\n"
     ]
    }
   ],
   "source": [
    "def fileLength(filename):\n",
    "    try:\n",
    "        with open(filename, 'r') as file:\n",
    "            contents = file.read()\n",
    "            length = len(contents)\n",
    "            return length\n",
    "    except FileNotFoundError:\n",
    "        print(f\"File {filename} not found.\")\n",
    "fileLength('midterm.py')  # Output: File midterm.py not found.\n",
    "fileLength('idterm.py')   # Output: File idterm.py not found."
   ]
  },
  {
   "cell_type": "markdown",
   "id": "b1a445c3",
   "metadata": {},
   "source": [
    "# Question 3\n",
    "Write a class named Marsupial that can be used as shown below:\n",
    ">>> m = Marsupial()\n",
    ">>> m.put_in_pouch('doll')\n",
    ">>> m.put_in_pouch('firetruck')\n",
    ">>> m.put_in_pouch('kitten')\n",
    ">>> m.pouch_contents() \n",
    "['doll', 'firetruck', 'kitten']\n",
    "Now write a class named Kangaroo as a subclass of Marsupial that inherits all the \n",
    "attributes of Marsupial and also:\n",
    "a. extends the Marsupial __init__ constructor to take, as input, the\n",
    "coordinates x and y of the Kangaroo object,\n",
    "b. supports method jump that takes number values dx and dy as input and \n",
    "movesthe kangaroo by dx units along the x-axis and by dy units along the y\u0002axis, and\n",
    "c. overloads the __str__ operator so it behaves as shown below.\n",
    ">>> k = Kangaroo(0,0)\n",
    ">>> print(k)\n",
    "I am a Kangaroo located at coordinates (0,0)\n",
    ">>> k.put_in_pouch('doll')\n",
    ">>> k.put_in_pouch('firetruck')\n",
    ">>> k.put_in_pouch('kitten')\n",
    ">>> k.pouch_contents() \n",
    "['doll', 'firetruck', 'kitten']\n",
    ">>> k.jump(1,0)\n",
    ">>> k.jump(1,0)\n",
    ">>> k.jump(1,0)\n",
    ">>> print(k)\n",
    "I am a Kangaroo located at coordinates (3,0)"
   ]
  },
  {
   "cell_type": "code",
   "execution_count": 4,
   "id": "65b3bee4",
   "metadata": {},
   "outputs": [
    {
     "name": "stdout",
     "output_type": "stream",
     "text": [
      "['doll', 'firetruck', 'kitten']\n",
      "I am a Kangaroo located at coordinates (0,0)\n",
      "['doll', 'firetruck', 'kitten']\n",
      "I am a Kangaroo located at coordinates (3,0)\n"
     ]
    }
   ],
   "source": [
    "class Marsupial:\n",
    "    def __init__(self):\n",
    "        self.pouch = []\n",
    "\n",
    "    def put_in_pouch(self, item):\n",
    "        self.pouch.append(item)\n",
    "\n",
    "    def pouch_contents(self):\n",
    "        return self.pouch\n",
    "    \n",
    "class Kangaroo(Marsupial):\n",
    "    def __init__(self, x, y):\n",
    "        super().__init__()\n",
    "        self.x = x\n",
    "        self.y = y\n",
    "\n",
    "    def jump(self, dx, dy):\n",
    "        self.x += dx\n",
    "        self.y += dy\n",
    "\n",
    "    def __str__(self):\n",
    "        return f\"I am a Kangaroo located at coordinates ({self.x},{self.y})\"\n",
    "\n",
    "\n",
    "m = Marsupial()\n",
    "m.put_in_pouch('doll')\n",
    "m.put_in_pouch('firetruck')\n",
    "m.put_in_pouch('kitten')\n",
    "print(m.pouch_contents())\n",
    "\n",
    "k = Kangaroo(0, 0)\n",
    "print(k)\n",
    "k.put_in_pouch('doll')\n",
    "k.put_in_pouch('firetruck')\n",
    "k.put_in_pouch('kitten')\n",
    "print(k.pouch_contents())\n",
    "k.jump(1, 0)\n",
    "k.jump(1, 0)\n",
    "k.jump(1, 0)\n",
    "print(k)\n",
    "\n"
   ]
  },
  {
   "cell_type": "markdown",
   "id": "b9406de9",
   "metadata": {},
   "source": [
    "# Question 4\n",
    "Write function collatz() that takes a positive integer x as input and prints the \n",
    "Collatz sequence starting at x. A Collatz sequence is obtained by repeatedly applying \n",
    "this rule to the previous number x in the sequence:\n",
    "x = {\n",
    "𝑥/2 𝑖𝑓 𝑥 𝑖𝑠 𝑒𝑣𝑒𝑛3𝑥\n",
    "+1 𝑖𝑓 𝑥 𝑖𝑠 𝑜𝑑𝑑\n",
    "Your function should stop when the sequence gets to number 1. Your \n",
    "implementation must be recursive, without any loops\n",
    "    >>> collatz(1) \n",
    "1\n",
    ">>> collatz(10) \n",
    "10\n",
    "5\n",
    "16\n",
    "8\n",
    "4\n",
    "2\n",
    "1"
   ]
  },
  {
   "cell_type": "code",
   "execution_count": 7,
   "id": "39c0993d",
   "metadata": {},
   "outputs": [
    {
     "name": "stdout",
     "output_type": "stream",
     "text": [
      "1\n",
      "10\n",
      "5\n",
      "16\n",
      "8\n",
      "4\n",
      "2\n",
      "1\n"
     ]
    }
   ],
   "source": [
    "def collatz(x):\n",
    "    print(x)\n",
    "\n",
    "    if x == 1:\n",
    "        return\n",
    "\n",
    "    if x % 2 == 0:\n",
    "        collatz(x // 2)\n",
    "    else:\n",
    "        collatz(3 * x + 1)\n",
    "\n",
    "collatz(1)\n",
    "collatz(10)\n"
   ]
  },
  {
   "cell_type": "markdown",
   "id": "45e2e689",
   "metadata": {},
   "source": [
    "# Question 5\n",
    "Write a recursive method binary() that takes a non-negative \n",
    "integer n and prints the binary representation of integer n.\n",
    ">>> binary(0)\n",
    "0\n",
    ">>> binary(1)\n",
    "1\n",
    ">>> binary(3) \n",
    "11\n",
    ">>> binary(9) \n",
    "1001"
   ]
  },
  {
   "cell_type": "code",
   "execution_count": 8,
   "id": "234e5ba0",
   "metadata": {},
   "outputs": [
    {
     "name": "stdout",
     "output_type": "stream",
     "text": [
      "0\n",
      "1\n",
      "11\n",
      "1001\n"
     ]
    }
   ],
   "source": [
    "def binary(n):\n",
    "    if n == 0:\n",
    "        return '0'\n",
    "    elif n == 1:\n",
    "        return '1'\n",
    "    else:\n",
    "        return binary(n // 2) + str(n % 2)\n",
    "\n",
    "print(binary(0))\n",
    "print(binary(1))\n",
    "print(binary(3))\n",
    "print(binary(9))\n"
   ]
  },
  {
   "cell_type": "markdown",
   "id": "51c2d633",
   "metadata": {},
   "source": [
    "# Question 6\n",
    "Implement a class named HeadingParser that can be used to parse an HTML \n",
    "document, and retrieve and print all the headings in the document. You should \n",
    "implement your class as a subclass of HTMLParser, defined in Standard Library \n",
    "module html.parser. When fed a string containing HTML code, your class should \n",
    "print the headings, one per line and in the order in which they appear in the \n",
    "document.Each heading should be indented asfollows: an h1 heading should have\n",
    "indentation 0, and h2 heading should have indentation 1, etc. Test your \n",
    "implementation using w3c.html.\n",
    ">>> infile = open('w3c.html')\n",
    ">>> content = infile.read()\n",
    ">>> infile.close()\n",
    ">>> hp = HeadingParser()\n",
    ">>> hp.feed(content) \n",
    "W3C Mission \n",
    "Principles"
   ]
  },
  {
   "cell_type": "code",
   "execution_count": 8,
   "id": "c6a1d43d",
   "metadata": {
    "scrolled": true
   },
   "outputs": [
    {
     "name": "stdout",
     "output_type": "stream",
     "text": [
      " Principles\n"
     ]
    }
   ],
   "source": [
    "from html.parser import HTMLParser\n",
    "\n",
    "class HeadingParser(HTMLParser):\n",
    "    def __init__(self):\n",
    "        super().__init__()\n",
    "        self.headings = []\n",
    "        self.current_indentation = 0\n",
    "\n",
    "    def handle_starttag(self, tag, attrs):\n",
    "        if tag.startswith('h') and len(tag) > 1 and tag[1:].isdigit():\n",
    "            self.current_indentation = int(tag[1:]) - 1\n",
    "\n",
    "    def handle_endtag(self, tag):\n",
    "        if tag.startswith('h') and len(tag) > 1 and tag[1:].isdigit():\n",
    "            self.current_indentation = 0\n",
    "\n",
    "    def handle_data(self, data):\n",
    "        if data.strip() and self.current_indentation > 0:\n",
    "            heading_text = ' ' * self.current_indentation + data.strip()\n",
    "            self.headings.append(heading_text)\n",
    "\n",
    "    def print_headings(self):\n",
    "        for heading in self.headings:\n",
    "            print(heading)\n",
    "\n",
    "# Read HTML content from file\n",
    "try:\n",
    "    with open(r\"C:\\Users\\gursh\\OneDrive\\Desktop\\w32c.html\", 'r') as infile:\n",
    "        content = infile.read()\n",
    "\n",
    "    # Parse and print headings\n",
    "    hp = HeadingParser()\n",
    "    hp.feed(content)\n",
    "    hp.print_headings()\n",
    "\n",
    "except FileNotFoundError:\n",
    "    print(\"File not found. Please check the file path.\")\n",
    "\n",
    "except Exception as e:\n",
    "    print(\"An error occurred:\", str(e))\n",
    "\n"
   ]
  },
  {
   "cell_type": "markdown",
   "id": "1c31f4fb",
   "metadata": {},
   "source": [
    "# Question 7\n",
    "Implement recursive function webdir() that takes as input: a URL (as a string) and \n",
    "non-negative integers depth and indent. Your function should visit every web \n",
    "page reachable from the starting URL web page in depth clicks or less, and print \n",
    "each web page's URL. As shown below, indentation, specified by indent, should \n",
    "be used to indicate the depth of a URL.\n",
    ">>>\n",
    "webdir('http://reed.cs.depaul.edu/lperkovic/csc242/test1.html'\n",
    ", 2, 0)\n",
    "http://reed.cs.depaul.edu/lperkovic/csc242/test1.html\n",
    "http://reed.cs.depaul.edu/lperkovic/csc242/test2.html\n",
    "http://reed.cs.depaul.edu/lperkovic/csc242/test4.html\n",
    "http://reed.cs.depaul.edu/lperkovic/csc242/test3.html\n",
    "http://reed.cs.depaul.edu/lperkovic/csc242/test4.html"
   ]
  },
  {
   "cell_type": "code",
   "execution_count": 14,
   "id": "89bb614d",
   "metadata": {},
   "outputs": [
    {
     "name": "stdout",
     "output_type": "stream",
     "text": [
      "http://reed.cs.depaul.edu/lperkovic/csc242/test3.html\n",
      "Error: 404 Client Error:  for url: http://reed.cs.depaul.edu/lperkovic/csc242/test3.html\n"
     ]
    }
   ],
   "source": [
    "import requests\n",
    "from bs4 import BeautifulSoup\n",
    "\n",
    "def webdir(url, depth, indent):\n",
    "    print(' ' * indent + url)\n",
    "\n",
    "    if depth == 0:\n",
    "        return\n",
    "\n",
    "    try:\n",
    "        \n",
    "        response = requests.get(url)\n",
    "        response.raise_for_status()  \n",
    "\n",
    "        \n",
    "        soup = BeautifulSoup(response.content, 'html.parser')\n",
    "\n",
    "        \n",
    "        links = soup.find_all('a')\n",
    "\n",
    "       \n",
    "        for link in links:\n",
    "            href = link.get('href')\n",
    "            if href.startswith('http'):\n",
    "                webdir(href, depth - 1, indent + 2)\n",
    "\n",
    "    except requests.exceptions.RequestException as e:\n",
    "        print('Error:', e)\n",
    "\n",
    "\n",
    "webdir('http://reed.cs.depaul.edu/lperkovic/csc242/test3.html', 2, 0)\n"
   ]
  },
  {
   "cell_type": "markdown",
   "id": "7e35791c",
   "metadata": {},
   "source": [
    "# Question 8\n",
    "Write SQL queries on the below database table that return:\n",
    "a) All the temperature data.\n",
    "b) All the cities, but without repetition.\n",
    "c) All the records for India.\n",
    "d) All the Fall records\n",
    "e) The city, country, and season for which the average rainfall is between 200 \n",
    "and 400 millimeters.\n",
    "f) The city and country for which the average Fall temperature is above 20 \n",
    "degrees, in increasing temperature order.\n",
    "g) The total annual rainfall for Cairo.\n",
    "h) The total rainfall for each season."
   ]
  },
  {
   "cell_type": "code",
   "execution_count": 9,
   "id": "cecfd4da",
   "metadata": {},
   "outputs": [
    {
     "name": "stdout",
     "output_type": "stream",
     "text": [
      "Temperature Data: [(24.8,), (28.4,), (27.9,), (27.6,), (4.2,), (8.3,), (15.7,), (10.4,), (13.6,), (20.7,), (27.7,), (22.2,)]\n",
      "Cities: [('Mumbai',), ('London',), ('Cairo',)]\n",
      "Records for India: [('Mumbai', 'India', 'Winter', 24.8, 5.9), ('Mumbai', 'India', 'Spring', 28.4, 16.2), ('Mumbai', 'India', 'Summer', 27.9, 1549.4), ('Mumbai', 'India', 'Fall', 27.6, 346.0)]\n",
      "Fall Records: [('Mumbai', 'India', 'Fall', 27.6, 346.0), ('London', 'United Kingdom', 'Fall', 10.4, 218.5), ('Cairo', 'Egypt', 'Fall', 22.2, 4.5)]\n",
      "Average Rainfall between 200 and 400 millimeters: [('London', 'United Kingdom', 'Fall'), ('London', 'United Kingdom', 'Winter'), ('Mumbai', 'India', 'Fall')]\n",
      "Average Fall Temperature above 20 degrees: [('Cairo', 'Egypt'), ('Mumbai', 'India')]\n",
      "Total Annual Rainfall for Cairo: 27.6\n"
     ]
    }
   ],
   "source": [
    "import sqlite3\n",
    "\n",
    "# Create a database connection\n",
    "conn = sqlite3.connect(':memory:')  # Use in-memory database for demonstration purposes\n",
    "\n",
    "# Create the table and insert the data\n",
    "conn.execute('''\n",
    "    CREATE TABLE Weather (\n",
    "        City TEXT,\n",
    "        Country TEXT,\n",
    "        Season TEXT,\n",
    "        Temperature FLOAT,\n",
    "        Rainfall FLOAT\n",
    "    )\n",
    "''')\n",
    "\n",
    "data = [\n",
    "    ('Mumbai', 'India', 'Winter', 24.8, 5.9),\n",
    "    ('Mumbai', 'India', 'Spring', 28.4, 16.2),\n",
    "    ('Mumbai', 'India', 'Summer', 27.9, 1549.4),\n",
    "    ('Mumbai', 'India', 'Fall', 27.6, 346.0),\n",
    "    ('London', 'United Kingdom', 'Winter', 4.2, 207.7),\n",
    "    ('London', 'United Kingdom', 'Spring', 8.3, 169.6),\n",
    "    ('London', 'United Kingdom', 'Summer', 15.7, 157.0),\n",
    "    ('London', 'United Kingdom', 'Fall', 10.4, 218.5),\n",
    "    ('Cairo', 'Egypt', 'Winter', 13.6, 16.5),\n",
    "    ('Cairo', 'Egypt', 'Spring', 20.7, 6.5),\n",
    "    ('Cairo', 'Egypt', 'Summer', 27.7, 0.1),\n",
    "    ('Cairo', 'Egypt', 'Fall', 22.2, 4.5)\n",
    "]\n",
    "\n",
    "conn.executemany('INSERT INTO Weather VALUES (?, ?, ?, ?, ?)', data)\n",
    "conn.commit()\n",
    "\n",
    "# Execute the SQL queries\n",
    "cursor = conn.cursor()\n",
    "\n",
    "# a) All the temperature data.\n",
    "cursor.execute('SELECT Temperature FROM Weather')\n",
    "temperature_data = cursor.fetchall()\n",
    "print(\"Temperature Data:\", temperature_data)\n",
    "\n",
    "# b) All the cities, but without repetition.\n",
    "cursor.execute('SELECT DISTINCT City FROM Weather')\n",
    "cities = cursor.fetchall()\n",
    "print(\"Cities:\", cities)\n",
    "\n",
    "# c) All the records for India.\n",
    "cursor.execute('SELECT * FROM Weather WHERE Country = \"India\"')\n",
    "india_records = cursor.fetchall()\n",
    "print(\"Records for India:\", india_records)\n",
    "\n",
    "# d) All the Fall records.\n",
    "cursor.execute('SELECT * FROM Weather WHERE Season = \"Fall\"')\n",
    "fall_records = cursor.fetchall()\n",
    "print(\"Fall Records:\", fall_records)\n",
    "\n",
    "# e) The city, country, and season for which the average rainfall is between 200 and 400 millimeters.\n",
    "cursor.execute('''\n",
    "    SELECT City, Country, Season\n",
    "    FROM Weather\n",
    "    GROUP BY City, Country, Season\n",
    "    HAVING AVG(Rainfall) BETWEEN 200 AND 400\n",
    "''')\n",
    "average_rainfall_records = cursor.fetchall()\n",
    "print(\"Average Rainfall between 200 and 400 millimeters:\", average_rainfall_records)\n",
    "\n",
    "# f) The city and country for which the average Fall temperature is above 20 degrees, in increasing temperature order.\n",
    "cursor.execute('''\n",
    "    SELECT City, Country\n",
    "    FROM Weather\n",
    "    WHERE Season = \"Fall\"\n",
    "    GROUP BY City, Country\n",
    "    HAVING AVG(Temperature) > 20\n",
    "    ORDER BY AVG(Temperature) ASC\n",
    "''')\n",
    "average_fall_temperature_records = cursor.fetchall()\n",
    "print(\"Average Fall Temperature above 20 degrees:\", average_fall_temperature_records)\n",
    "\n",
    "# g) The total annual rainfall for Cairo.\n",
    "cursor.execute('SELECT SUM(Rainfall) FROM Weather WHERE City = \"Cairo\"')\n",
    "total_rainfall_cairo = cursor.fetchone()[0]\n",
    "print(\"Total Annual Rainfall for Cairo:\", total_rainfall_cairo)\n",
    "\n",
    "# h\n"
   ]
  },
  {
   "cell_type": "markdown",
   "id": "476e92d6",
   "metadata": {},
   "source": [
    "# Question 9\n",
    ". Suppose list words is defined as follows:\n",
    ">>> words = ['The', 'quick', 'brown', 'fox', 'jumps', 'over', \n",
    "'the', 'lazy', 'dog']\n",
    "Write list comprehension expressions that use list words and generate the following \n",
    "lists:\n",
    "a) ['THE', 'QUICK', 'BROWN', 'FOX', 'JUMPS', 'OVER', 'THE', \n",
    "'LAZY', 'DOG']\n",
    "b) ['the', 'quick', 'brown', 'fox', 'jumps', 'over', 'the', \n",
    "'lazy', 'dog']\n",
    "c) [3, 5, 5, 3, 5, 4, 3, 4, 3] (the list of lengths of words in list\n",
    "words).\n",
    "d) [['THE', 'the', 3], ['QUICK', 'quick', 5], ['BROWN',\n",
    "'brown', 5], ['FOX', 'fox', 3], ['JUMPS', 'jumps', 5],\n",
    "['OVER', 'over', 4], ['THE', 'the', 3], ['LAZY', 'lazy',\n",
    "4], ['DOG', 'dog', 3]] (the list containing a list for every word of list \n",
    "words, where each list contains the word in uppercase and lowercase and the \n",
    "length of the word.)\n",
    "e) ['The', 'quick', 'brown', 'fox', 'jumps', 'over', 'the', \n",
    "'lazy', 'dog'] (the list of words in list words containing 4 or more \n",
    "characters.)"
   ]
  },
  {
   "cell_type": "code",
   "execution_count": 19,
   "id": "0d6d29a5",
   "metadata": {},
   "outputs": [
    {
     "name": "stdout",
     "output_type": "stream",
     "text": [
      "Uppercase words: ['THE', 'QUICK', 'BROWN', 'FOX', 'JUMPS', 'OVER', 'THE', 'LAZY', 'DOG']\n",
      "Lowercase words: ['the', 'quick', 'brown', 'fox', 'jumps', 'over', 'the', 'lazy', 'dog']\n",
      "Word lengths: [3, 5, 5, 3, 5, 4, 3, 4, 3]\n",
      "Word info: [['THE', 'the', 3], ['QUICK', 'quick', 5], ['BROWN', 'brown', 5], ['FOX', 'fox', 3], ['JUMPS', 'jumps', 5], ['OVER', 'over', 4], ['THE', 'the', 3], ['LAZY', 'lazy', 4], ['DOG', 'dog', 3]]\n",
      "Long words: ['quick', 'brown', 'jumps', 'over', 'lazy']\n"
     ]
    }
   ],
   "source": [
    "words = ['The', 'quick', 'brown', 'fox', 'jumps', 'over', 'the', 'lazy', 'dog']\n",
    "\n",
    "# a) Uppercase words\n",
    "uppercase_words = [word.upper() for word in words]\n",
    "\n",
    "# b) Lowercase words\n",
    "lowercase_words = [word.lower() for word in words]\n",
    "\n",
    "# c) Lengths of words\n",
    "word_lengths = [len(word) for word in words]\n",
    "\n",
    "# d) Word info with uppercase, lowercase, and length\n",
    "word_info = [[word.upper(), word.lower(), len(word)] for word in words]\n",
    "\n",
    "# e) Words with 4 or more characters\n",
    "long_words = [word for word in words if len(word) >= 4]\n",
    "\n",
    "# Printing the generated lists\n",
    "print(\"Uppercase words:\", uppercase_words)\n",
    "print(\"Lowercase words:\", lowercase_words)\n",
    "print(\"Word lengths:\", word_lengths)\n",
    "print(\"Word info:\", word_info)\n",
    "print(\"Long words:\", long_words)\n"
   ]
  }
 ],
 "metadata": {
  "kernelspec": {
   "display_name": "Python 3 (ipykernel)",
   "language": "python",
   "name": "python3"
  },
  "language_info": {
   "codemirror_mode": {
    "name": "ipython",
    "version": 3
   },
   "file_extension": ".py",
   "mimetype": "text/x-python",
   "name": "python",
   "nbconvert_exporter": "python",
   "pygments_lexer": "ipython3",
   "version": "3.10.9"
  }
 },
 "nbformat": 4,
 "nbformat_minor": 5
}
